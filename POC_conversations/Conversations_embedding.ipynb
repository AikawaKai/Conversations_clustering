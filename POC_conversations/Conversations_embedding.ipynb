{
 "cells": [
  {
   "cell_type": "code",
   "execution_count": 1,
   "id": "a9f4b43c-2f98-450f-9ad5-d7bbbe7a9e2b",
   "metadata": {},
   "outputs": [],
   "source": [
    "import pandas as pd"
   ]
  },
  {
   "cell_type": "code",
   "execution_count": 2,
   "id": "cbdf1c71-9098-45fc-8bc9-b2a7876fc131",
   "metadata": {},
   "outputs": [
    {
     "name": "stdout",
     "output_type": "stream",
     "text": [
      "Requirement already satisfied: sentence-transformers in c:\\users\\marcoodore\\anaconda3\\lib\\site-packages (2.3.1)\n",
      "Requirement already satisfied: transformers<5.0.0,>=4.32.0 in c:\\users\\marcoodore\\anaconda3\\lib\\site-packages (from sentence-transformers) (4.32.1)\n",
      "Requirement already satisfied: tqdm in c:\\users\\marcoodore\\anaconda3\\lib\\site-packages (from sentence-transformers) (4.65.0)\n",
      "Requirement already satisfied: torch>=1.11.0 in c:\\users\\marcoodore\\anaconda3\\lib\\site-packages (from sentence-transformers) (2.0.0)\n",
      "Requirement already satisfied: numpy in c:\\users\\marcoodore\\anaconda3\\lib\\site-packages (from sentence-transformers) (1.26.3)\n",
      "Requirement already satisfied: scikit-learn in c:\\users\\marcoodore\\anaconda3\\lib\\site-packages (from sentence-transformers) (1.3.0)\n",
      "Requirement already satisfied: scipy in c:\\users\\marcoodore\\anaconda3\\lib\\site-packages (from sentence-transformers) (1.11.4)\n",
      "Requirement already satisfied: nltk in c:\\users\\marcoodore\\anaconda3\\lib\\site-packages (from sentence-transformers) (3.8.1)\n",
      "Requirement already satisfied: sentencepiece in c:\\users\\marcoodore\\anaconda3\\lib\\site-packages (from sentence-transformers) (0.1.99)\n",
      "Requirement already satisfied: huggingface-hub>=0.15.1 in c:\\users\\marcoodore\\anaconda3\\lib\\site-packages (from sentence-transformers) (0.17.3)\n",
      "Requirement already satisfied: Pillow in c:\\users\\marcoodore\\anaconda3\\lib\\site-packages (from sentence-transformers) (10.0.1)\n",
      "Requirement already satisfied: filelock in c:\\users\\marcoodore\\anaconda3\\lib\\site-packages (from huggingface-hub>=0.15.1->sentence-transformers) (3.13.1)\n",
      "Requirement already satisfied: fsspec in c:\\users\\marcoodore\\anaconda3\\lib\\site-packages (from huggingface-hub>=0.15.1->sentence-transformers) (2023.10.0)\n",
      "Requirement already satisfied: requests in c:\\users\\marcoodore\\anaconda3\\lib\\site-packages (from huggingface-hub>=0.15.1->sentence-transformers) (2.31.0)\n",
      "Requirement already satisfied: pyyaml>=5.1 in c:\\users\\marcoodore\\anaconda3\\lib\\site-packages (from huggingface-hub>=0.15.1->sentence-transformers) (6.0.1)\n",
      "Requirement already satisfied: typing-extensions>=3.7.4.3 in c:\\users\\marcoodore\\anaconda3\\lib\\site-packages (from huggingface-hub>=0.15.1->sentence-transformers) (4.7.1)\n",
      "Requirement already satisfied: packaging>=20.9 in c:\\users\\marcoodore\\anaconda3\\lib\\site-packages (from huggingface-hub>=0.15.1->sentence-transformers) (23.1)\n",
      "Requirement already satisfied: sympy in c:\\users\\marcoodore\\anaconda3\\lib\\site-packages (from torch>=1.11.0->sentence-transformers) (1.12)\n",
      "Requirement already satisfied: networkx in c:\\users\\marcoodore\\anaconda3\\lib\\site-packages (from torch>=1.11.0->sentence-transformers) (3.1)\n",
      "Requirement already satisfied: jinja2 in c:\\users\\marcoodore\\anaconda3\\lib\\site-packages (from torch>=1.11.0->sentence-transformers) (3.1.2)\n",
      "Requirement already satisfied: colorama in c:\\users\\marcoodore\\anaconda3\\lib\\site-packages (from tqdm->sentence-transformers) (0.4.6)\n",
      "Requirement already satisfied: regex!=2019.12.17 in c:\\users\\marcoodore\\anaconda3\\lib\\site-packages (from transformers<5.0.0,>=4.32.0->sentence-transformers) (2023.10.3)\n",
      "Requirement already satisfied: tokenizers!=0.11.3,<0.14,>=0.11.1 in c:\\users\\marcoodore\\anaconda3\\lib\\site-packages (from transformers<5.0.0,>=4.32.0->sentence-transformers) (0.13.3)\n",
      "Requirement already satisfied: safetensors>=0.3.1 in c:\\users\\marcoodore\\anaconda3\\lib\\site-packages (from transformers<5.0.0,>=4.32.0->sentence-transformers) (0.4.0)\n",
      "Requirement already satisfied: click in c:\\users\\marcoodore\\anaconda3\\lib\\site-packages (from nltk->sentence-transformers) (8.1.7)\n",
      "Requirement already satisfied: joblib in c:\\users\\marcoodore\\anaconda3\\lib\\site-packages (from nltk->sentence-transformers) (1.2.0)\n",
      "Requirement already satisfied: threadpoolctl>=2.0.0 in c:\\users\\marcoodore\\anaconda3\\lib\\site-packages (from scikit-learn->sentence-transformers) (2.2.0)\n",
      "Requirement already satisfied: MarkupSafe>=2.0 in c:\\users\\marcoodore\\anaconda3\\lib\\site-packages (from jinja2->torch>=1.11.0->sentence-transformers) (2.1.3)\n",
      "Requirement already satisfied: charset-normalizer<4,>=2 in c:\\users\\marcoodore\\anaconda3\\lib\\site-packages (from requests->huggingface-hub>=0.15.1->sentence-transformers) (2.0.4)\n",
      "Requirement already satisfied: idna<4,>=2.5 in c:\\users\\marcoodore\\anaconda3\\lib\\site-packages (from requests->huggingface-hub>=0.15.1->sentence-transformers) (3.4)\n",
      "Requirement already satisfied: urllib3<3,>=1.21.1 in c:\\users\\marcoodore\\anaconda3\\lib\\site-packages (from requests->huggingface-hub>=0.15.1->sentence-transformers) (1.26.18)\n",
      "Requirement already satisfied: certifi>=2017.4.17 in c:\\users\\marcoodore\\anaconda3\\lib\\site-packages (from requests->huggingface-hub>=0.15.1->sentence-transformers) (2023.11.17)\n",
      "Requirement already satisfied: mpmath>=0.19 in c:\\users\\marcoodore\\anaconda3\\lib\\site-packages (from sympy->torch>=1.11.0->sentence-transformers) (1.3.0)\n"
     ]
    }
   ],
   "source": [
    "!pip install -U sentence-transformers"
   ]
  },
  {
   "cell_type": "code",
   "execution_count": 3,
   "id": "4e06a472-484a-4025-b0e2-5088de9d35f8",
   "metadata": {},
   "outputs": [],
   "source": [
    "def open_dataset(path):\n",
    "    df = pd.read_excel(path)\n",
    "    return df"
   ]
  },
  {
   "cell_type": "code",
   "execution_count": 4,
   "id": "d5a9bd8b-17dc-4373-bcf7-13c214bcc783",
   "metadata": {},
   "outputs": [],
   "source": [
    "df = open_dataset(\"./Chat_Team_CaseStudy FINAL.xlsx\")"
   ]
  },
  {
   "cell_type": "code",
   "execution_count": 5,
   "id": "d1ef7113-1fe7-4ca7-9957-15ed18dd05a2",
   "metadata": {},
   "outputs": [
    {
     "data": {
      "text/plain": [
       "Transaction Start Date      31952\n",
       "Agent                       31952\n",
       "Chat Duration               31952\n",
       "Teams                       31952\n",
       "Session Name                31952\n",
       "Chat Closed By              31741\n",
       "Interactive Chat            31952\n",
       "Browser                     31952\n",
       "Operating System            31952\n",
       "Geo                         17665\n",
       "Response Time of Agent      31952\n",
       "Response time of Visitor    31952\n",
       "Transaction End Date        31952\n",
       "Customer Rating             31952\n",
       "Customer Comment            31952\n",
       "Transferred Chat            31952\n",
       "Customer Wait Time          31952\n",
       "Text                        31133\n",
       "dtype: int64"
      ]
     },
     "execution_count": 5,
     "metadata": {},
     "output_type": "execute_result"
    }
   ],
   "source": [
    "df.count()"
   ]
  },
  {
   "cell_type": "code",
   "execution_count": 6,
   "id": "8d76ce87-9934-41bd-bcf8-e441dcfbdb74",
   "metadata": {},
   "outputs": [],
   "source": [
    "def clean_dataset(df):\n",
    "    df = df[['Text']].dropna().drop_duplicates()\n",
    "    df['Text'] = df['Text'].str.strip()\n",
    "    rows_to_drop = df[df['Text']==''].index\n",
    "    df.drop(rows_to_drop, inplace=True)\n",
    "    return df"
   ]
  },
  {
   "cell_type": "code",
   "execution_count": 7,
   "id": "d57d4f45-af00-4cf3-b51b-7ced03c82e52",
   "metadata": {},
   "outputs": [],
   "source": [
    "df = clean_dataset(df)"
   ]
  },
  {
   "cell_type": "code",
   "execution_count": 8,
   "id": "b9c153f2-3bec-48dd-bd3f-3631c33d56cb",
   "metadata": {},
   "outputs": [],
   "source": [
    "# count = df.groupby(by='Text').size()\n",
    "# count"
   ]
  },
  {
   "cell_type": "code",
   "execution_count": 9,
   "id": "d2952aae-2bda-4149-a8d7-26d2d7e7678b",
   "metadata": {},
   "outputs": [],
   "source": [
    "from sentence_transformers import SentenceTransformer\n",
    "model = SentenceTransformer('sentence-transformers/all-MiniLM-L6-v2')\n",
    "\n",
    "def embedd_text(text):\n",
    "    try:\n",
    "        embeddings = model.encode(text)\n",
    "    except:\n",
    "        print(text)\n",
    "        embeddings = None\n",
    "    return embeddings"
   ]
  },
  {
   "cell_type": "code",
   "execution_count": 10,
   "id": "c38094b7-912f-47da-b495-d1b89ec44bb4",
   "metadata": {},
   "outputs": [
    {
     "name": "stdout",
     "output_type": "stream",
     "text": [
      "nan\n"
     ]
    }
   ],
   "source": [
    "# df_test = df.sample(frac=1)\n",
    "df['embedding'] = df['Text'].apply(embedd_text)"
   ]
  },
  {
   "cell_type": "code",
   "execution_count": 15,
   "id": "ff361221-b1e3-4775-931d-4663884a243e",
   "metadata": {},
   "outputs": [],
   "source": [
    "df.to_csv(\"embedding.csv\")"
   ]
  },
  {
   "cell_type": "code",
   "execution_count": null,
   "id": "6c2ac0d8-0595-4fc0-928c-70ac99993cc5",
   "metadata": {},
   "outputs": [],
   "source": []
  }
 ],
 "metadata": {
  "kernelspec": {
   "display_name": "Python 3 (ipykernel)",
   "language": "python",
   "name": "python3"
  },
  "language_info": {
   "codemirror_mode": {
    "name": "ipython",
    "version": 3
   },
   "file_extension": ".py",
   "mimetype": "text/x-python",
   "name": "python",
   "nbconvert_exporter": "python",
   "pygments_lexer": "ipython3",
   "version": "3.9.18"
  }
 },
 "nbformat": 4,
 "nbformat_minor": 5
}
